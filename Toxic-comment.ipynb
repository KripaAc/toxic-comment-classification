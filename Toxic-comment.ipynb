{
 "cells": [
  {
   "cell_type": "code",
   "execution_count": 1,
   "id": "8a77ac43-cb79-47c8-9198-86604819e183",
   "metadata": {
    "scrolled": true
   },
   "outputs": [
    {
     "name": "stdout",
     "output_type": "stream",
     "text": [
      "Requirement already satisfied: pandas in c:\\users\\kripa\\appdata\\local\\programs\\python\\python312\\lib\\site-packages (2.2.2)\n",
      "Requirement already satisfied: numpy in c:\\users\\kripa\\appdata\\local\\programs\\python\\python312\\lib\\site-packages (1.26.4)\n",
      "Requirement already satisfied: scikit-learn in c:\\users\\kripa\\appdata\\local\\programs\\python\\python312\\lib\\site-packages (1.5.1)\n",
      "Requirement already satisfied: matplotlib in c:\\users\\kripa\\appdata\\local\\programs\\python\\python312\\lib\\site-packages (3.9.1)\n",
      "Requirement already satisfied: seaborn in c:\\users\\kripa\\appdata\\local\\programs\\python\\python312\\lib\\site-packages (0.13.2)\n",
      "Requirement already satisfied: nltk in c:\\users\\kripa\\appdata\\local\\programs\\python\\python312\\lib\\site-packages (3.8.1)\n",
      "Requirement already satisfied: python-dateutil>=2.8.2 in c:\\users\\kripa\\appdata\\local\\programs\\python\\python312\\lib\\site-packages (from pandas) (2.9.0.post0)\n",
      "Requirement already satisfied: pytz>=2020.1 in c:\\users\\kripa\\appdata\\local\\programs\\python\\python312\\lib\\site-packages (from pandas) (2024.1)\n",
      "Requirement already satisfied: tzdata>=2022.7 in c:\\users\\kripa\\appdata\\local\\programs\\python\\python312\\lib\\site-packages (from pandas) (2024.1)\n",
      "Requirement already satisfied: scipy>=1.6.0 in c:\\users\\kripa\\appdata\\local\\programs\\python\\python312\\lib\\site-packages (from scikit-learn) (1.14.0)\n",
      "Requirement already satisfied: joblib>=1.2.0 in c:\\users\\kripa\\appdata\\local\\programs\\python\\python312\\lib\\site-packages (from scikit-learn) (1.4.2)\n",
      "Requirement already satisfied: threadpoolctl>=3.1.0 in c:\\users\\kripa\\appdata\\local\\programs\\python\\python312\\lib\\site-packages (from scikit-learn) (3.5.0)\n",
      "Requirement already satisfied: contourpy>=1.0.1 in c:\\users\\kripa\\appdata\\local\\programs\\python\\python312\\lib\\site-packages (from matplotlib) (1.2.1)\n",
      "Requirement already satisfied: cycler>=0.10 in c:\\users\\kripa\\appdata\\local\\programs\\python\\python312\\lib\\site-packages (from matplotlib) (0.12.1)\n",
      "Requirement already satisfied: fonttools>=4.22.0 in c:\\users\\kripa\\appdata\\local\\programs\\python\\python312\\lib\\site-packages (from matplotlib) (4.53.1)\n",
      "Requirement already satisfied: kiwisolver>=1.3.1 in c:\\users\\kripa\\appdata\\local\\programs\\python\\python312\\lib\\site-packages (from matplotlib) (1.4.5)\n",
      "Requirement already satisfied: packaging>=20.0 in c:\\users\\kripa\\appdata\\local\\programs\\python\\python312\\lib\\site-packages (from matplotlib) (24.0)\n",
      "Requirement already satisfied: pillow>=8 in c:\\users\\kripa\\appdata\\local\\programs\\python\\python312\\lib\\site-packages (from matplotlib) (10.4.0)\n",
      "Requirement already satisfied: pyparsing>=2.3.1 in c:\\users\\kripa\\appdata\\local\\programs\\python\\python312\\lib\\site-packages (from matplotlib) (3.1.2)\n",
      "Requirement already satisfied: click in c:\\users\\kripa\\appdata\\local\\programs\\python\\python312\\lib\\site-packages (from nltk) (8.1.7)\n",
      "Requirement already satisfied: regex>=2021.8.3 in c:\\users\\kripa\\appdata\\local\\programs\\python\\python312\\lib\\site-packages (from nltk) (2024.5.15)\n",
      "Requirement already satisfied: tqdm in c:\\users\\kripa\\appdata\\local\\programs\\python\\python312\\lib\\site-packages (from nltk) (4.66.4)\n",
      "Requirement already satisfied: six>=1.5 in c:\\users\\kripa\\appdata\\local\\programs\\python\\python312\\lib\\site-packages (from python-dateutil>=2.8.2->pandas) (1.16.0)\n",
      "Requirement already satisfied: colorama in c:\\users\\kripa\\appdata\\local\\programs\\python\\python312\\lib\\site-packages (from click->nltk) (0.4.6)\n",
      "Note: you may need to restart the kernel to use updated packages.\n"
     ]
    }
   ],
   "source": [
    "pip install pandas numpy scikit-learn matplotlib seaborn nltk"
   ]
  },
  {
   "cell_type": "code",
   "execution_count": 2,
   "id": "c700fdae-df8f-4d76-8afe-7e51e090a93e",
   "metadata": {},
   "outputs": [],
   "source": [
    "import pandas as pd\n",
    "import numpy as np\n",
    "import matplotlib.pyplot as plt\n",
    "import seaborn as sns\n",
    "import zipfile\n",
    "import nltk\n",
    "from nltk.corpus import stopwords\n",
    "from sklearn.feature_extraction.text import TfidfVectorizer\n",
    "from sklearn.model_selection import train_test_split\n",
    "from sklearn.linear_model import LogisticRegression\n",
    "from sklearn.metrics import accuracy_score, confusion_matrix, classification_report\n",
    "import joblib\n"
   ]
  },
  {
   "cell_type": "code",
   "execution_count": 3,
   "id": "68959346-5e20-49a8-94a6-4b1cd265088d",
   "metadata": {},
   "outputs": [
    {
     "name": "stdout",
     "output_type": "stream",
     "text": [
      "['sample_submission.csv', 'sample_submission.csv.zip', 'test.csv', 'test.csv.zip', 'test_labels.csv', 'test_labels.csv.zip', 'train.csv', 'train.csv.zip']\n"
     ]
    }
   ],
   "source": [
    "import zipfile\n",
    "import os\n",
    "\n",
    "# Path to your dataset directory\n",
    "dataset_path = 'C:/Users/kripa/Downloads/jigsaw-toxic-comment-classification-challenge/'\n",
    "\n",
    "# List all files in the directory\n",
    "files = os.listdir(dataset_path)\n",
    "\n",
    "# Extract all zip files in the directory\n",
    "for file in files:\n",
    "    if file.endswith('.zip'):\n",
    "        zip_ref = zipfile.ZipFile(os.path.join(dataset_path, file), 'r')\n",
    "        zip_ref.extractall(dataset_path)\n",
    "        zip_ref.close()\n",
    "\n",
    "# Print the updated list of files after extraction\n",
    "print(os.listdir(dataset_path))\n"
   ]
  },
  {
   "cell_type": "code",
   "execution_count": 4,
   "id": "3a84e7f5-cc74-4c1d-90f0-c815ab4262e5",
   "metadata": {},
   "outputs": [
    {
     "name": "stdout",
     "output_type": "stream",
     "text": [
      "                 id                                       comment_text  toxic  \\\n",
      "0  0000997932d777bf  Explanation\\nWhy the edits made under my usern...      0   \n",
      "1  000103f0d9cfb60f  D'aww! He matches this background colour I'm s...      0   \n",
      "2  000113f07ec002fd  Hey man, I'm really not trying to edit war. It...      0   \n",
      "3  0001b41b1c6bb37e  \"\\nMore\\nI can't make any real suggestions on ...      0   \n",
      "4  0001d958c54c6e35  You, sir, are my hero. Any chance you remember...      0   \n",
      "\n",
      "   severe_toxic  obscene  threat  insult  identity_hate  \n",
      "0             0        0       0       0              0  \n",
      "1             0        0       0       0              0  \n",
      "2             0        0       0       0              0  \n",
      "3             0        0       0       0              0  \n",
      "4             0        0       0       0              0  \n",
      "                 id                                       comment_text\n",
      "0  00001cee341fdb12  Yo bitch Ja Rule is more succesful then you'll...\n",
      "1  0000247867823ef7  == From RfC == \\n\\n The title is fine as it is...\n",
      "2  00013b17ad220c46  \" \\n\\n == Sources == \\n\\n * Zawe Ashton on Lap...\n",
      "3  00017563c3f7919a  :If you have a look back at the source, the in...\n",
      "4  00017695ad8997eb          I don't anonymously edit articles at all.\n",
      "                 id  toxic  severe_toxic  obscene  threat  insult  \\\n",
      "0  00001cee341fdb12     -1            -1       -1      -1      -1   \n",
      "1  0000247867823ef7     -1            -1       -1      -1      -1   \n",
      "2  00013b17ad220c46     -1            -1       -1      -1      -1   \n",
      "3  00017563c3f7919a     -1            -1       -1      -1      -1   \n",
      "4  00017695ad8997eb     -1            -1       -1      -1      -1   \n",
      "\n",
      "   identity_hate  \n",
      "0             -1  \n",
      "1             -1  \n",
      "2             -1  \n",
      "3             -1  \n",
      "4             -1  \n",
      "                 id  toxic  severe_toxic  obscene  threat  insult  \\\n",
      "0  00001cee341fdb12    0.5           0.5      0.5     0.5     0.5   \n",
      "1  0000247867823ef7    0.5           0.5      0.5     0.5     0.5   \n",
      "2  00013b17ad220c46    0.5           0.5      0.5     0.5     0.5   \n",
      "3  00017563c3f7919a    0.5           0.5      0.5     0.5     0.5   \n",
      "4  00017695ad8997eb    0.5           0.5      0.5     0.5     0.5   \n",
      "\n",
      "   identity_hate  \n",
      "0            0.5  \n",
      "1            0.5  \n",
      "2            0.5  \n",
      "3            0.5  \n",
      "4            0.5  \n"
     ]
    }
   ],
   "source": [
    "import pandas as pd\n",
    "\n",
    "# Define the path to your extracted folder\n",
    "dataset_path = 'C:/Users/kripa/Downloads/jigsaw-toxic-comment-classification-challenge/'\n",
    "\n",
    "# Load dataset\n",
    "train_df = pd.read_csv(dataset_path + 'train.csv')\n",
    "test_df = pd.read_csv(dataset_path + 'test.csv')\n",
    "test_labels_df = pd.read_csv(dataset_path + 'test_labels.csv')\n",
    "sample_submission_df = pd.read_csv(dataset_path + 'sample_submission.csv')\n",
    "\n",
    "# Displaying the first few rows to verify\n",
    "print(train_df.head())\n",
    "print(test_df.head())\n",
    "print(test_labels_df.head())\n",
    "print(sample_submission_df.head())\n"
   ]
  },
  {
   "cell_type": "code",
   "execution_count": 5,
   "id": "8e7248aa-2e36-40ba-a530-ac7d473e4659",
   "metadata": {},
   "outputs": [],
   "source": [
    "import pandas as pd\n",
    "from sklearn.model_selection import train_test_split\n",
    "from sklearn.feature_extraction.text import TfidfVectorizer\n",
    "\n",
    "# Load dataset\n",
    "dataset_path = \"C:/Users/kripa/Downloads/jigsaw-toxic-comment-classification-challenge/\"\n",
    "train_df = pd.read_csv(dataset_path + 'train.csv')\n",
    "test_df = pd.read_csv(dataset_path + 'test.csv')\n",
    "test_labels_df = pd.read_csv(dataset_path + 'test_labels.csv')\n",
    "\n",
    "# Handle missing values\n",
    "train_df.fillna(\"\", inplace=True)\n",
    "test_df.fillna(\"\", inplace=True)\n",
    "\n",
    "# Splitting into features and target\n",
    "X = train_df['comment_text']\n",
    "y = train_df.drop(columns=['id', 'comment_text'])\n",
    "\n",
    "# Train-test split\n",
    "X_train, X_test, y_train, y_test = train_test_split(X, y, test_size=0.2, random_state=42)\n"
   ]
  },
  {
   "cell_type": "code",
   "execution_count": 6,
   "id": "9ce35f74-d60a-49b2-984c-14fa2a3ed213",
   "metadata": {},
   "outputs": [],
   "source": [
    "# Handle missing values (if any)\n",
    "y = train_df.drop(columns=['id', 'comment_text'])\n",
    "\n",
    "# Train-test split\n",
    "train_df.fillna(\"\", inplace=True)\n",
    "test_df.fillna(\"\", inplace=True)\n"
   ]
  },
  {
   "cell_type": "code",
   "execution_count": 7,
   "id": "3954c8d6-7719-4992-b79b-c45d94c8e0c1",
   "metadata": {},
   "outputs": [
    {
     "name": "stdout",
     "output_type": "stream",
     "text": [
      "Index(['toxic', 'severe_toxic', 'obscene', 'threat', 'insult',\n",
      "       'identity_hate'],\n",
      "      dtype='object')\n",
      "No 'id' column found in the target dataframe.\n",
      "   toxic  severe_toxic  obscene  threat  insult  identity_hate  is_toxic\n",
      "0      0             0        0       0       0              0         0\n",
      "1      0             0        0       0       0              0         0\n",
      "2      0             0        0       0       0              0         0\n",
      "3      0             0        0       0       0              0         0\n",
      "4      0             0        0       0       0              0         0\n"
     ]
    }
   ],
   "source": [
    "# Check the columns present in the 'y' DataFrame\n",
    "print(y.columns)\n",
    "\n",
    "# Drop unnecessary columns from the target dataframe if 'id' is not present\n",
    "if 'id' in y.columns:\n",
    "    y.drop(columns=['id'], inplace=True)\n",
    "else:\n",
    "    print(\"No 'id' column found in the target dataframe.\")\n",
    "\n",
    "# Convert target to binary labels (if necessary)\n",
    "# For binary classification, sum all labels to create a single column indicating any toxicity\n",
    "y['is_toxic'] = y.sum(axis=1).apply(lambda x: 1 if x > 0 else 0)\n",
    "\n",
    "# Check the updated 'y' DataFrame\n",
    "print(y.head())\n"
   ]
  },
  {
   "cell_type": "code",
   "execution_count": 8,
   "id": "d8eefee0-fadc-4d7d-80f4-6f17c1ac2ed2",
   "metadata": {},
   "outputs": [],
   "source": [
    "# Correct way to assign values to avoid SettingWithCopyWarning\n",
    "y.loc[:, 'is_toxic'] = y.sum(axis=1).apply(lambda x: 1 if x > 0 else 0)\n"
   ]
  },
  {
   "cell_type": "code",
   "execution_count": 9,
   "id": "f1cd9857-68b5-4546-b0cc-5e4bc66c9e40",
   "metadata": {
    "scrolled": true
   },
   "outputs": [
    {
     "data": {
      "image/png": "[encoded data removed]",
      "text/plain": [
       "<Figure size 1000x600 with 1 Axes>"
      ]
     },
     "metadata": {},
     "output_type": "display_data"
    }
   ],
   "source": [
    "import matplotlib.pyplot as plt\n",
    "import seaborn as sns\n",
    "\n",
    "# Example: Visualizing class distribution\n",
    "plt.figure(figsize=(10, 6))\n",
    "sns.countplot(x='is_toxic', data=y)\n",
    "plt.title('Distribution of Toxic vs Non-Toxic Comments')\n",
    "plt.xlabel('is_toxic')\n",
    "plt.ylabel('Count')\n",
    "plt.show()\n"
   ]
  },
  {
   "cell_type": "code",
   "execution_count": 10,
   "id": "9c5a44a4-47a3-48cf-8d1e-1f2e37b6fbb5",
   "metadata": {},
   "outputs": [],
   "source": [
    "from sklearn.feature_extraction.text import TfidfVectorizer\n",
    "\n",
    "# Example: TF-IDF vectorization (assuming you have text data)\n",
    "tfidf_vectorizer = TfidfVectorizer(max_features=5000)  # Adjust max_features as needed\n",
    "X_tfidf = tfidf_vectorizer.fit_transform(train_df['comment_text'])\n"
   ]
  },
  {
   "cell_type": "code",
   "execution_count": 11,
   "id": "ea852949-8d0e-42d3-8096-9af034a17623",
   "metadata": {
    "scrolled": true
   },
   "outputs": [
    {
     "name": "stdout",
     "output_type": "stream",
     "text": [
      "              precision    recall  f1-score   support\n",
      "\n",
      "           0       0.96      0.99      0.98     28671\n",
      "           1       0.92      0.63      0.75      3244\n",
      "\n",
      "    accuracy                           0.96     31915\n",
      "   macro avg       0.94      0.81      0.86     31915\n",
      "weighted avg       0.96      0.96      0.95     31915\n",
      "\n"
     ]
    }
   ],
   "source": [
    "from sklearn.model_selection import train_test_split\n",
    "from sklearn.linear_model import LogisticRegression\n",
    "from sklearn.metrics import classification_report\n",
    "\n",
    "# Split data into training and testing sets\n",
    "X_train, X_test, y_train, y_test = train_test_split(X_tfidf, y['is_toxic'], test_size=0.2, random_state=42)\n",
    "\n",
    "# Initialize and train a logistic regression model\n",
    "model = LogisticRegression(max_iter=500)\n",
    "model.fit(X_train, y_train)\n",
    "\n",
    "# Predictions on the test set\n",
    "y_pred = model.predict(X_test)\n",
    "\n",
    "# Evaluate the model\n",
    "print(classification_report(y_test, y_pred))\n"
   ]
  },
  {
   "cell_type": "code",
   "execution_count": 12,
   "id": "69383f17-1dff-4bf8-9144-95e10a6aab34",
   "metadata": {},
   "outputs": [],
   "source": [
    "import string\n",
    "import re\n",
    "def preprocess_text(text):\n",
    "    # Lowercase the text\n",
    "    text = text.lower()\n",
    "    \n",
    "    # Remove punctuation characters\n",
    "    text = text.translate(str.maketrans('', '', string.punctuation))\n",
    "    \n",
    "    # Remove numbers\n",
    "    text = re.sub(r'\\d+', '', text)\n",
    "    \n",
    "    # Remove extra whitespace\n",
    "    text = text.strip()\n",
    "    \n",
    "    return text"
   ]
  },
  {
   "cell_type": "code",
   "execution_count": 13,
   "id": "623637ed-58f6-43fa-883d-d4f2473b7786",
   "metadata": {},
   "outputs": [
    {
     "name": "stdout",
     "output_type": "stream",
     "text": [
      "Predicted toxicity: 0\n"
     ]
    }
   ],
   "source": [
    "# Assuming `model` is your trained Logistic Regression model and `vectorizer` is your TF-IDF vectorizer\n",
    "\n",
    "def predict_toxicity(comment, model, vectorizer):\n",
    "    # Preprocess the comment (you need to apply the same preprocessing steps as used for training)\n",
    "    processed_comment = preprocess_text(comment)\n",
    "    \n",
    "    # Vectorize the comment using the trained TF-IDF vectorizer\n",
    "    comment_vectorized = vectorizer.transform([processed_comment])\n",
    "    \n",
    "    # Predict toxicity using the trained model\n",
    "    prediction = model.predict(comment_vectorized)\n",
    "    \n",
    "    return prediction[0]  # Assuming you want to return the predicted label (0 or 1)\n",
    "\n",
    "# Example usage:\n",
    "comment = \"This is a heaven.\"\n",
    "predicted_toxicity = predict_toxicity(comment, model, tfidf_vectorizer)\n",
    "print(f\"Predicted toxicity: {predicted_toxicity}\")\n"
   ]
  },
  {
   "cell_type": "code",
   "execution_count": 13,
   "id": "0d96cf5a-9794-4c06-8e61-6e59f01408f6",
   "metadata": {},
   "outputs": [
    {
     "data": {
      "text/plain": [
       "['tfidf_vectorizer.pkl']"
      ]
     },
     "execution_count": 13,
     "metadata": {},
     "output_type": "execute_result"
    }
   ],
   "source": [
    "import joblib\n",
    "joblib.dump(model,'logistic_regression_model.pkl')\n",
    "joblib.dump(tfidf_vectorizer,'tfidf_vectorizer.pkl')"
   ]
  },
  {
   "cell_type": "code",
   "execution_count": null,
   "id": "97a0f7f5-69bd-4ea4-b764-0398e614e3f6",
   "metadata": {},
   "outputs": [],
   "source": []
  }
 ],
 "metadata": {
  "kernelspec": {
   "display_name": "Python 3 (ipykernel)",
   "language": "python",
   "name": "python3"
  },
  "language_info": {
   "codemirror_mode": {
    "name": "ipython",
    "version": 3
   },
   "file_extension": ".py",
   "mimetype": "text/x-python",
   "name": "python",
   "nbconvert_exporter": "python",
   "pygments_lexer": "ipython3",
   "version": "3.12.4"
  }
 },
 "nbformat": 4,
 "nbformat_minor": 5
}
